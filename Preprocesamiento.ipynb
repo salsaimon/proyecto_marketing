{
 "cells": [
  {
   "cell_type": "code",
   "execution_count": 6,
   "metadata": {},
   "outputs": [],
   "source": [
    "import numpy as np\n",
    "import pandas as pd\n",
    "import sqlite3 as sql\n",
    "import plotly.graph_objs as go ### para gráficos\n",
    "import plotly.express as px\n",
    "#import a_funciones as fn\n",
    "import matplotlib.pyplot as plt"
   ]
  },
  {
   "cell_type": "code",
   "execution_count": 7,
   "metadata": {},
   "outputs": [],
   "source": [
    "conn=sql.connect('db_movies') ### crear cuando no existe el nombre de cd  y para conectarse cuando sí existe.\n",
    "cur=conn.cursor() ###para funciones que ejecutan sql en base de datos"
   ]
  },
  {
   "cell_type": "code",
   "execution_count": 13,
   "metadata": {},
   "outputs": [
    {
     "ename": "ProgrammingError",
     "evalue": "You can only execute one statement at a time.",
     "output_type": "error",
     "traceback": [
      "\u001b[1;31m---------------------------------------------------------------------------\u001b[0m",
      "\u001b[1;31mProgrammingError\u001b[0m                          Traceback (most recent call last)",
      "Cell \u001b[1;32mIn[13], line 5\u001b[0m\n\u001b[0;32m      1\u001b[0m \u001b[38;5;66;03m# Iniciar la ejecución de las consultas\u001b[39;00m\n\u001b[0;32m      2\u001b[0m \n\u001b[0;32m      3\u001b[0m \u001b[38;5;66;03m## crear tabla con usuarios con más de 50 películas vistas y menos de 1000\u001b[39;00m\n\u001b[0;32m      4\u001b[0m     \u001b[38;5;66;03m# Eliminar tabla 'usuarios_sel' si existe y crear una nueva\u001b[39;00m\n\u001b[1;32m----> 5\u001b[0m \u001b[43mcur\u001b[49m\u001b[38;5;241;43m.\u001b[39;49m\u001b[43mexecute\u001b[49m\u001b[43m(\u001b[49m\u001b[38;5;124;43m'''\u001b[39;49m\n\u001b[0;32m      6\u001b[0m \u001b[38;5;124;43mDROP TABLE IF EXISTS usuarios_sel;\u001b[39;49m\n\u001b[0;32m      7\u001b[0m \u001b[38;5;124;43mCREATE TABLE usuarios_sel AS \u001b[39;49m\n\u001b[0;32m      8\u001b[0m \u001b[38;5;124;43mSELECT \u001b[39;49m\u001b[38;5;124;43m\"\u001b[39;49m\u001b[38;5;124;43muserId\u001b[39;49m\u001b[38;5;124;43m\"\u001b[39;49m\u001b[38;5;124;43m AS user_id, COUNT(*) AS cnt_rat\u001b[39;49m\n\u001b[0;32m      9\u001b[0m \u001b[38;5;124;43mFROM ratings\u001b[39;49m\n\u001b[0;32m     10\u001b[0m \u001b[38;5;124;43mGROUP BY \u001b[39;49m\u001b[38;5;124;43m\"\u001b[39;49m\u001b[38;5;124;43muserId\u001b[39;49m\u001b[38;5;124;43m\"\u001b[39;49m\n\u001b[0;32m     11\u001b[0m \u001b[38;5;124;43mHAVING cnt_rat > 50 AND cnt_rat <= 1000\u001b[39;49m\n\u001b[0;32m     12\u001b[0m \u001b[38;5;124;43mORDER BY cnt_rat DESC;\u001b[39;49m\n\u001b[0;32m     13\u001b[0m \u001b[38;5;124;43m'''\u001b[39;49m\u001b[43m)\u001b[49m\n\u001b[0;32m     14\u001b[0m \u001b[38;5;66;03m## crear tabla con películas que han sido vistas por más de 50 usuarios\u001b[39;00m\n\u001b[0;32m     15\u001b[0m \u001b[38;5;66;03m# Eliminar tabla 'movies_sel' si existe y crear una nueva\u001b[39;00m\n\u001b[0;32m     16\u001b[0m cur\u001b[38;5;241m.\u001b[39mexecute(\u001b[38;5;124m'''\u001b[39m\n\u001b[0;32m     17\u001b[0m \u001b[38;5;124mDROP TABLE IF EXISTS movies_sel;\u001b[39m\n\u001b[0;32m     18\u001b[0m \u001b[38;5;124mCREATE TABLE movies_sel AS \u001b[39m\n\u001b[1;32m   (...)\u001b[0m\n\u001b[0;32m     23\u001b[0m \u001b[38;5;124mORDER BY cnt_rat DESC;\u001b[39m\n\u001b[0;32m     24\u001b[0m \u001b[38;5;124m'''\u001b[39m)\n",
      "\u001b[1;31mProgrammingError\u001b[0m: You can only execute one statement at a time."
     ]
    }
   ],
   "source": [
    "# Iniciar la ejecución de las consultas\n",
    "\n",
    "## crear tabla con usuarios con más de 50 películas vistas y menos de 1000\n",
    "    # Eliminar tabla 'usuarios_sel' si existe y crear una nueva\n",
    "cur.execute(\"\"\"\n",
    "DROP TABLE IF EXISTS usuarios_sel;\n",
    "CREATE TABLE usuarios_sel AS \n",
    "SELECT \"userId\" AS user_id, COUNT(*) AS cnt_rat\n",
    "FROM ratings\n",
    "GROUP BY \"userId\"\n",
    "HAVING cnt_rat > 50 AND cnt_rat <= 1000\n",
    "ORDER BY cnt_rat DESC;\n",
    "\"\" \"\" \"\")\n",
    "## crear tabla con películas que han sido vistas por más de 50 usuarios\n",
    "# Eliminar tabla 'movies_sel' si existe y crear una nueva\n",
    "cur.execute('''\n",
    "DROP TABLE IF EXISTS movies_sel;\n",
    "CREATE TABLE movies_sel AS \n",
    "SELECT movieId, COUNT(*) AS cnt_rat\n",
    "FROM ratings\n",
    "GROUP BY movieId\n",
    "HAVING cnt_rat > 50\n",
    "ORDER BY cnt_rat DESC;\n",
    "''')\n",
    "## crear tablas filtradas de películas, usuarios y calificaciones\n",
    "# Crear tabla 'ratings_final'\n",
    "cur.execute('''\n",
    "DROP TABLE IF EXISTS ratings_final;\n",
    "CREATE TABLE ratings_final AS\n",
    "SELECT a.\"userId\" AS user_id, a.movieId AS movieid, a.\"rating\" AS movie_rating\n",
    "FROM ratings a\n",
    "INNER JOIN movies_sel b ON a.movieId = b.movieid\n",
    "INNER JOIN usuarios_sel c ON a.\"userId\" = c.user_id;\n",
    "''')\n",
    "\n",
    " # Crear tabla 'users_final'\n",
    "cur.execute('''\n",
    "DROP TABLE IF EXISTS users_final;\n",
    "CREATE TABLE users_final AS\n",
    "SELECT a.\"userId\" AS user_id, a.timestamp AS ltimestamp\n",
    "FROM users a\n",
    "INNER JOIN usuarios_sel c ON a.\"userId\" = c.user_id;\n",
    "''')\n",
    "# Crear tabla 'books_final'\n",
    "cur.execute('''\n",
    "DROP TABLE IF EXISTS movies_final;\n",
    "CREATE TABLE movies_final AS\n",
    "SELECT a.rating AS rating, a.\"title\" AS movie_title, a.\"genres\" AS genres,\n",
    "FROM movies a\n",
    "INNER JOIN movies_sel c ON a.ratings = c.ratings;\n",
    "''')\n",
    "\n",
    "\n",
    "\n",
    "# Guardar los cambios\n",
    "conn.commit()\n",
    "\n",
    "# Cerrar la conexión si es necesario\n",
    "# conn.close()\n"
   ]
  },
  {
   "cell_type": "code",
   "execution_count": 15,
   "metadata": {},
   "outputs": [
    {
     "ename": "ProgrammingError",
     "evalue": "You can only execute one statement at a time.",
     "output_type": "error",
     "traceback": [
      "\u001b[1;31m---------------------------------------------------------------------------\u001b[0m",
      "\u001b[1;31mProgrammingError\u001b[0m                          Traceback (most recent call last)",
      "Cell \u001b[1;32mIn[15], line 1\u001b[0m\n\u001b[1;32m----> 1\u001b[0m \u001b[43mcur\u001b[49m\u001b[38;5;241;43m.\u001b[39;49m\u001b[43mexecute\u001b[49m\u001b[43m(\u001b[49m\u001b[38;5;124;43m\"\"\"\u001b[39;49m\n\u001b[0;32m      2\u001b[0m \u001b[38;5;124;43mDROP TABLE IF EXISTS usuarios_sel;\u001b[39;49m\n\u001b[0;32m      3\u001b[0m \u001b[38;5;124;43mCREATE TABLE usuarios_sel AS \u001b[39;49m\n\u001b[0;32m      4\u001b[0m \u001b[38;5;124;43mSELECT \u001b[39;49m\u001b[38;5;124;43m\"\u001b[39;49m\u001b[38;5;124;43muserId\u001b[39;49m\u001b[38;5;124;43m\"\u001b[39;49m\u001b[38;5;124;43m AS user_id, COUNT(*) AS cnt_rat\u001b[39;49m\n\u001b[0;32m      5\u001b[0m \u001b[38;5;124;43mFROM ratings\u001b[39;49m\n\u001b[0;32m      6\u001b[0m \u001b[38;5;124;43mGROUP BY \u001b[39;49m\u001b[38;5;124;43m\"\u001b[39;49m\u001b[38;5;124;43muserId\u001b[39;49m\u001b[38;5;124;43m\"\u001b[39;49m\n\u001b[0;32m      7\u001b[0m \u001b[38;5;124;43mHAVING cnt_rat > 50 AND cnt_rat <= 1000\u001b[39;49m\n\u001b[0;32m      8\u001b[0m \u001b[38;5;124;43mORDER BY cnt_rat DESC;\u001b[39;49m\n\u001b[0;32m      9\u001b[0m \u001b[38;5;124;43m\"\"\"\u001b[39;49m\u001b[43m)\u001b[49m\n",
      "\u001b[1;31mProgrammingError\u001b[0m: You can only execute one statement at a time."
     ]
    }
   ],
   "source": [
    "cur.execute(\"\"\"\n",
    "DROP TABLE IF EXISTS usuarios_sel;\n",
    "CREATE TABLE usuarios_sel AS \n",
    "SELECT \"userId\" AS user_id, COUNT(*) AS cnt_rat\n",
    "FROM ratings\n",
    "GROUP BY \"userId\"\n",
    "HAVING cnt_rat > 50 AND cnt_rat <= 1000\n",
    "ORDER BY cnt_rat DESC;\n",
    "\"\"\")"
   ]
  }
 ],
 "metadata": {
  "kernelspec": {
   "display_name": "Python 3",
   "language": "python",
   "name": "python3"
  },
  "language_info": {
   "codemirror_mode": {
    "name": "ipython",
    "version": 3
   },
   "file_extension": ".py",
   "mimetype": "text/x-python",
   "name": "python",
   "nbconvert_exporter": "python",
   "pygments_lexer": "ipython3",
   "version": "3.12.6"
  }
 },
 "nbformat": 4,
 "nbformat_minor": 2
}
