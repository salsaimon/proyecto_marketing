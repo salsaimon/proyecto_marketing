{
 "cells": [
  {
   "cell_type": "code",
   "execution_count": 3,
   "metadata": {},
   "outputs": [
    {
     "ename": "ModuleNotFoundError",
     "evalue": "No module named 'ipywidgets'",
     "output_type": "error",
     "traceback": [
      "\u001b[1;31m---------------------------------------------------------------------------\u001b[0m",
      "\u001b[1;31mModuleNotFoundError\u001b[0m                       Traceback (most recent call last)",
      "Cell \u001b[1;32mIn[3], line 5\u001b[0m\n\u001b[0;32m      3\u001b[0m \u001b[38;5;28;01mimport\u001b[39;00m \u001b[38;5;21;01msqlite3\u001b[39;00m \u001b[38;5;28;01mas\u001b[39;00m \u001b[38;5;21;01msql\u001b[39;00m\n\u001b[0;32m      4\u001b[0m \u001b[38;5;28;01mfrom\u001b[39;00m \u001b[38;5;21;01msklearn\u001b[39;00m\u001b[38;5;21;01m.\u001b[39;00m\u001b[38;5;21;01mpreprocessing\u001b[39;00m \u001b[38;5;28;01mimport\u001b[39;00m MinMaxScaler\n\u001b[1;32m----> 5\u001b[0m \u001b[38;5;28;01mfrom\u001b[39;00m \u001b[38;5;21;01mipywidgets\u001b[39;00m \u001b[38;5;28;01mimport\u001b[39;00m interact \u001b[38;5;66;03m## para análisis interactivo\u001b[39;00m\n\u001b[0;32m      6\u001b[0m \u001b[38;5;28;01mfrom\u001b[39;00m \u001b[38;5;21;01msklearn\u001b[39;00m \u001b[38;5;28;01mimport\u001b[39;00m neighbors \u001b[38;5;66;03m### basado en contenido un solo producto consumido\u001b[39;00m\n\u001b[0;32m      7\u001b[0m \u001b[38;5;28;01mimport\u001b[39;00m \u001b[38;5;21;01mjoblib\u001b[39;00m\n",
      "\u001b[1;31mModuleNotFoundError\u001b[0m: No module named 'ipywidgets'"
     ]
    }
   ],
   "source": [
    "import numpy as np\n",
    "import pandas as pd\n",
    "import sqlite3 as sql\n",
    "from sklearn.preprocessing import MinMaxScaler\n",
    "from ipywidgets import interact ## para análisis interactivo\n",
    "from sklearn import neighbors ### basado en contenido un solo producto consumido\n",
    "import joblib"
   ]
  },
  {
   "cell_type": "code",
   "execution_count": 23,
   "metadata": {},
   "outputs": [],
   "source": [
    "#Instalar SURPRISE en Anaconda Prompt\n",
    "from surprise import Reader, Dataset\n",
    "from surprise.model_selection import cross_validate, GridSearchCV\n",
    "from surprise import KNNBasic, KNNWithMeans, KNNWithZScore, KNNBaseline\n",
    "from surprise.model_selection import train_test_split"
   ]
  },
  {
   "cell_type": "code",
   "execution_count": 24,
   "metadata": {},
   "outputs": [],
   "source": [
    "conn=sql.connect('db_movies')\n",
    "cur=conn.cursor() "
   ]
  },
  {
   "cell_type": "markdown",
   "metadata": {},
   "source": [
    "Sistema de recomendación basado en contenido KNN con base en todo lo visto por el usuario"
   ]
  },
  {
   "cell_type": "code",
   "execution_count": 25,
   "metadata": {},
   "outputs": [
    {
     "name": "stdout",
     "output_type": "stream",
     "text": [
      "<class 'pandas.core.frame.DataFrame'>\n",
      "RangeIndex: 2121 entries, 0 to 2120\n",
      "Data columns (total 23 columns):\n",
      " #   Column       Non-Null Count  Dtype \n",
      "---  ------       --------------  ----- \n",
      " 0   movieId      2121 non-null   int64 \n",
      " 1   title        2121 non-null   object\n",
      " 2   cnt_rat      2121 non-null   int64 \n",
      " 3   Action       2121 non-null   int64 \n",
      " 4   Adventure    2121 non-null   int64 \n",
      " 5   Animation    2121 non-null   int64 \n",
      " 6   Children     2121 non-null   int64 \n",
      " 7   Comedy       2121 non-null   int64 \n",
      " 8   Crime        2121 non-null   int64 \n",
      " 9   Documentary  2121 non-null   int64 \n",
      " 10  Drama        2121 non-null   int64 \n",
      " 11  Fantasy      2121 non-null   int64 \n",
      " 12  Film-Noir    2121 non-null   int64 \n",
      " 13  Horror       2121 non-null   int64 \n",
      " 14  IMAX         2121 non-null   int64 \n",
      " 15  Musical      2121 non-null   int64 \n",
      " 16  Mystery      2121 non-null   int64 \n",
      " 17  Romance      2121 non-null   int64 \n",
      " 18  Sci-Fi       2121 non-null   int64 \n",
      " 19  Thriller     2121 non-null   int64 \n",
      " 20  War          2121 non-null   int64 \n",
      " 21  Western      2121 non-null   int64 \n",
      " 22  año_estreno  2121 non-null   int32 \n",
      "dtypes: int32(1), int64(21), object(1)\n",
      "memory usage: 373.0+ KB\n"
     ]
    }
   ],
   "source": [
    "movies=pd.read_sql('select * from moviesready',conn)\n",
    "movies['año_estreno']=movies.año_estreno.astype('int')\n",
    "\n",
    "movies.info()"
   ]
  },
  {
   "cell_type": "code",
   "execution_count": 26,
   "metadata": {},
   "outputs": [],
   "source": [
    "##### cargar data frame escalado y con dummies ###\n",
    "\n",
    "movies_dum1= joblib.load('salidas_movies_dum1.joblib')\n",
    "\n",
    "usuarios=pd.read_sql('select distinct (user_id) as user_id from ratingsready',conn)\n",
    "\n",
    "user_id=89"
   ]
  },
  {
   "cell_type": "code",
   "execution_count": 50,
   "metadata": {},
   "outputs": [
    {
     "data": {
      "application/vnd.jupyter.widget-view+json": {
       "model_id": "d629e1b0a84344ec86ab7ab99fec015e",
       "version_major": 2,
       "version_minor": 0
      },
      "text/plain": [
       "interactive(children=(Dropdown(description='user_id', options=(1, 410, 403, 404, 405, 406, 407, 408, 409, 411,…"
      ]
     },
     "metadata": {},
     "output_type": "display_data"
    },
    {
     "name": "stdout",
     "output_type": "stream",
     "text": [
      "<function recomendar at 0x0000021954930FE0>\n"
     ]
    }
   ],
   "source": [
    "def recomendar(user_id=list(usuarios['user_id'].value_counts().index)):\n",
    "\n",
    "    ratings=pd.read_sql('select *from ratingsready where user_id=:user',conn, params={'user':user_id})\n",
    "    l_movies_r=ratings['movieid'].to_numpy()\n",
    "    \n",
    "    ####agregar la columna de movie_id y title de la pelicula a dummie para filtrar y mostrar nombre\n",
    "    movies_dum1[['movie_id','title']]=movies[['movieId','title']]\n",
    "\n",
    "    ### filtrar peliculas calificadas por el usuario\n",
    "    movies_r=movies_dum1[movies_dum1['movie_id'].isin(l_movies_r)]\n",
    "\n",
    "    ## eliminar columna movie_id' y title\n",
    "    movies_r=movies_r.drop(columns=['movie_id','title'])\n",
    "    movies_r[\"indice\"]=1 \n",
    "        \n",
    "    ##centroide o perfil del usuario\n",
    "    centroide=movies_r.groupby(\"indice\").mean() \n",
    "\n",
    "    ### filtrar peliculas no vistas    \n",
    "    movies_nr=movies_dum1[~movies_dum1['movie_id'].isin(l_movies_r)] \n",
    "        \n",
    "    ## eliminar movie_id y title\n",
    "    movies_nr=movies_nr.drop(columns=['movie_id','title'])\n",
    "\n",
    "    ### entrenar modelo \n",
    "    model=neighbors.NearestNeighbors(n_neighbors=11, metric='cosine')\n",
    "    model.fit(movies_nr) \n",
    "    dist, idlist = model.kneighbors(centroide)\n",
    "        \n",
    "    ids=idlist[0]\n",
    "    recomend_b=movies.loc[ids][['title','movieId']]\n",
    "    leidos=movies[movies['movieId'].isin(l_movies_r)][['title','movieId']]\n",
    "    return recomend_b\n",
    "\n",
    "recomendar(30)\n",
    "\n",
    "print(interact(recomendar))\n"
   ]
  }
 ],
 "metadata": {
  "kernelspec": {
   "display_name": "Python 3",
   "language": "python",
   "name": "python3"
  },
  "language_info": {
   "codemirror_mode": {
    "name": "ipython",
    "version": 3
   },
   "file_extension": ".py",
   "mimetype": "text/x-python",
   "name": "python",
   "nbconvert_exporter": "python",
   "pygments_lexer": "ipython3",
   "version": "3.12.7"
  }
 },
 "nbformat": 4,
 "nbformat_minor": 2
}
