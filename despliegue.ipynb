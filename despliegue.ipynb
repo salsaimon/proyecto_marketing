{
 "cells": [
  {
   "cell_type": "code",
   "execution_count": 2,
   "metadata": {},
   "outputs": [],
   "source": [
    "import numpy as np\n",
    "import pandas as pd\n",
    "import sqlite3 as sql\n",
    "import FuncionesPY as fn ## para procesamiento\n",
    "import openpyxl"
   ]
  },
  {
   "cell_type": "code",
   "execution_count": 3,
   "metadata": {},
   "outputs": [],
   "source": [
    "####Paquete para sistema basado en contenido ####\n",
    "from sklearn.preprocessing import MinMaxScaler\n",
    "from sklearn import neighbors"
   ]
  },
  {
   "cell_type": "code",
   "execution_count": 12,
   "metadata": {},
   "outputs": [],
   "source": [
    "def preprocesar():\n",
    "\n",
    "    #### conectar_base_de_Datos#################\n",
    "    conn=sql.connect('db_movies')\n",
    "    cur=conn.cursor()\n",
    "\n",
    "    ######## convertir datos crudos a bases filtradas por usuarios que tengan cierto número de calificaciones\n",
    "    fn.ejecutar_sql('preprocesamiento.sql', cur)\n",
    "\n",
    "    ##### llevar datos que cambian constantemente a python ######\n",
    "    movies=pd.read_sql('select * from moviesready', conn )\n",
    "    ratings=pd.read_sql('select * from ratingsready', conn)\n",
    "    usuarios=pd.read_sql('select distinct (user_id) as user_id from ratings_finalready',conn)\n",
    "\n",
    "    \n",
    "    #### transformación de datos crudos - Preprocesamiento ################\n",
    "    movies['año_estreno']=movies.año_estreno.astype('int')\n",
    "\n",
    "    ##### escalar para que año esté en el mismo rango ###\n",
    "    sc=MinMaxScaler()\n",
    "    movies[[\"año_estrenosc\"]]=sc.fit_transform(movies[['año_estreno']])\n",
    "\n",
    "    ## eliminar filas que no se van a utilizar ###\n",
    "    movies_dum1=movies.drop(columns=['movieId','title','conteo','año_estreno'])\n",
    "\n",
    "    return movies_dum1,movies, conn, cur\n"
   ]
  },
  {
   "cell_type": "code",
   "execution_count": 13,
   "metadata": {},
   "outputs": [],
   "source": [
    "#########################################################################\n",
    "############## Función para entrenar modelo por cada usuario #############\n",
    "############## Basado en contenido todo lo visto por el usuario Knn ######\n",
    "def recomendar(user_id):\n",
    "    \n",
    "    movies_dum1, movies, conn, cur= preprocesar()\n",
    "    \n",
    "    ratings=pd.read_sql('select *from ratings_finalready where user_id=:user',conn, params={'user':user_id})\n",
    "    l_movies=ratings['movieId'].to_numpy()\n",
    "    movies_dum1[['movieId','title']]=movies[['movieId','title']]\n",
    "    movies_r=movies_dum1[movies_dum1['movieId'].isin(l_movies)]\n",
    "    movies_r=movies_r.drop(columns=['movieId','title'])\n",
    "    movies_r[\"indice\"]=1 ### para usar group by y que quede en formato pandas tabla de centroide\n",
    "    centroide=movies_r.groupby(\"indice\").mean()\n",
    "    \n",
    "    \n",
    "    movies_nr=movies_dum1[~movies_dum1['movieId'].isin(l_movies)]\n",
    "    movies_nr=movies_nr.drop(columns=['movieId','title'])\n",
    "    model=neighbors.NearestNeighbors(n_neighbors=11, metric='cosine')\n",
    "    model.fit(movies_nr)\n",
    "    dist, idlist = model.kneighbors(centroide)\n",
    "    \n",
    "    ids=idlist[0]\n",
    "    recomend_b=movies.loc[ids][['movieId','title']]\n",
    "    \n",
    "    \n",
    "    return recomend_b"
   ]
  },
  {
   "cell_type": "code",
   "execution_count": 14,
   "metadata": {},
   "outputs": [
    {
     "ename": "OperationalError",
     "evalue": "table ratings_final already exists",
     "output_type": "error",
     "traceback": [
      "\u001b[1;31m---------------------------------------------------------------------------\u001b[0m",
      "\u001b[1;31mOperationalError\u001b[0m                          Traceback (most recent call last)",
      "Cell \u001b[1;32mIn[14], line 20\u001b[0m\n\u001b[0;32m     18\u001b[0m \u001b[38;5;28;01mif\u001b[39;00m \u001b[38;5;18m__name__\u001b[39m\u001b[38;5;241m==\u001b[39m\u001b[38;5;124m\"\u001b[39m\u001b[38;5;124m__main__\u001b[39m\u001b[38;5;124m\"\u001b[39m:\n\u001b[0;32m     19\u001b[0m     list_user\u001b[38;5;241m=\u001b[39m[\u001b[38;5;241m1\u001b[39m,\u001b[38;5;241m2\u001b[39m,\u001b[38;5;241m3\u001b[39m,\u001b[38;5;241m4\u001b[39m,\u001b[38;5;241m5\u001b[39m]\n\u001b[1;32m---> 20\u001b[0m     \u001b[43mmain\u001b[49m\u001b[43m(\u001b[49m\u001b[43mlist_user\u001b[49m\u001b[43m)\u001b[49m\n\u001b[0;32m     22\u001b[0m \u001b[38;5;28;01mimport\u001b[39;00m \u001b[38;5;21;01msys\u001b[39;00m\n\u001b[0;32m     23\u001b[0m sys\u001b[38;5;241m.\u001b[39mexecutable\n",
      "Cell \u001b[1;32mIn[14], line 8\u001b[0m, in \u001b[0;36mmain\u001b[1;34m(list_user)\u001b[0m\n\u001b[0;32m      5\u001b[0m recomendaciones_todos\u001b[38;5;241m=\u001b[39mpd\u001b[38;5;241m.\u001b[39mDataFrame()\n\u001b[0;32m      6\u001b[0m \u001b[38;5;28;01mfor\u001b[39;00m user_id \u001b[38;5;129;01min\u001b[39;00m list_user:\n\u001b[1;32m----> 8\u001b[0m     recomendaciones\u001b[38;5;241m=\u001b[39m\u001b[43mrecomendar\u001b[49m\u001b[43m(\u001b[49m\u001b[43muser_id\u001b[49m\u001b[43m)\u001b[49m\n\u001b[0;32m      9\u001b[0m     recomendaciones[\u001b[38;5;124m\"\u001b[39m\u001b[38;5;124muser_id\u001b[39m\u001b[38;5;124m\"\u001b[39m]\u001b[38;5;241m=\u001b[39muser_id\n\u001b[0;32m     10\u001b[0m     recomendaciones\u001b[38;5;241m.\u001b[39mreset_index(inplace\u001b[38;5;241m=\u001b[39m\u001b[38;5;28;01mTrue\u001b[39;00m,drop\u001b[38;5;241m=\u001b[39m\u001b[38;5;28;01mTrue\u001b[39;00m)\n",
      "Cell \u001b[1;32mIn[13], line 6\u001b[0m, in \u001b[0;36mrecomendar\u001b[1;34m(user_id)\u001b[0m\n\u001b[0;32m      4\u001b[0m \u001b[38;5;28;01mdef\u001b[39;00m \u001b[38;5;21mrecomendar\u001b[39m(user_id):\n\u001b[1;32m----> 6\u001b[0m     movies_dum1, movies, conn, cur\u001b[38;5;241m=\u001b[39m \u001b[43mpreprocesar\u001b[49m\u001b[43m(\u001b[49m\u001b[43m)\u001b[49m\n\u001b[0;32m      8\u001b[0m     ratings\u001b[38;5;241m=\u001b[39mpd\u001b[38;5;241m.\u001b[39mread_sql(\u001b[38;5;124m'\u001b[39m\u001b[38;5;124mselect *from ratings_finalready where user_id=:user\u001b[39m\u001b[38;5;124m'\u001b[39m,conn, params\u001b[38;5;241m=\u001b[39m{\u001b[38;5;124m'\u001b[39m\u001b[38;5;124muser\u001b[39m\u001b[38;5;124m'\u001b[39m:user_id})\n\u001b[0;32m      9\u001b[0m     l_movies\u001b[38;5;241m=\u001b[39mratings[\u001b[38;5;124m'\u001b[39m\u001b[38;5;124mmovieId\u001b[39m\u001b[38;5;124m'\u001b[39m]\u001b[38;5;241m.\u001b[39mto_numpy()\n",
      "Cell \u001b[1;32mIn[12], line 8\u001b[0m, in \u001b[0;36mpreprocesar\u001b[1;34m()\u001b[0m\n\u001b[0;32m      5\u001b[0m cur\u001b[38;5;241m=\u001b[39mconn\u001b[38;5;241m.\u001b[39mcursor()\n\u001b[0;32m      7\u001b[0m \u001b[38;5;66;03m######## convertir datos crudos a bases filtradas por usuarios que tengan cierto número de calificaciones\u001b[39;00m\n\u001b[1;32m----> 8\u001b[0m \u001b[43mfn\u001b[49m\u001b[38;5;241;43m.\u001b[39;49m\u001b[43mejecutar_sql\u001b[49m\u001b[43m(\u001b[49m\u001b[38;5;124;43m'\u001b[39;49m\u001b[38;5;124;43mpreprocesamiento.sql\u001b[39;49m\u001b[38;5;124;43m'\u001b[39;49m\u001b[43m,\u001b[49m\u001b[43m \u001b[49m\u001b[43mcur\u001b[49m\u001b[43m)\u001b[49m\n\u001b[0;32m     10\u001b[0m \u001b[38;5;66;03m##### llevar datos que cambian constantemente a python ######\u001b[39;00m\n\u001b[0;32m     11\u001b[0m movies\u001b[38;5;241m=\u001b[39mpd\u001b[38;5;241m.\u001b[39mread_sql(\u001b[38;5;124m'\u001b[39m\u001b[38;5;124mselect * from moviesready\u001b[39m\u001b[38;5;124m'\u001b[39m, conn )\n",
      "File \u001b[1;32mg:\\Mi unidad\\cod\\proyecto_marketing\\FuncionesPY.py:5\u001b[0m, in \u001b[0;36mejecutar_sql\u001b[1;34m(nombre_archivo, cur)\u001b[0m\n\u001b[0;32m      3\u001b[0m sql_as_string\u001b[38;5;241m=\u001b[39msql_file\u001b[38;5;241m.\u001b[39mread()\n\u001b[0;32m      4\u001b[0m sql_file\u001b[38;5;241m.\u001b[39mclose\n\u001b[1;32m----> 5\u001b[0m \u001b[43mcur\u001b[49m\u001b[38;5;241;43m.\u001b[39;49m\u001b[43mexecutescript\u001b[49m\u001b[43m(\u001b[49m\u001b[43msql_as_string\u001b[49m\u001b[43m)\u001b[49m\n",
      "\u001b[1;31mOperationalError\u001b[0m: table ratings_final already exists"
     ]
    }
   ],
   "source": [
    "##### Generar recomendaciones para usuario lista de usuarios ####\n",
    "##### No se hace para todos porque es muy pesado #############\n",
    "def main(list_user):\n",
    "    \n",
    "    recomendaciones_todos=pd.DataFrame()\n",
    "    for user_id in list_user:\n",
    "            \n",
    "        recomendaciones=recomendar(user_id)\n",
    "        recomendaciones[\"user_id\"]=user_id\n",
    "        recomendaciones.reset_index(inplace=True,drop=True)\n",
    "        \n",
    "        recomendaciones_todos=pd.concat([recomendaciones_todos, recomendaciones])\n",
    "\n",
    "    recomendaciones_todos.to_excel('salidas\\\\recomendaciones.xlsx')\n",
    "    recomendaciones_todos.to_csv('salidas\\\\recomendaciones.csv')\n",
    "\n",
    "\n",
    "if __name__==\"__main__\":\n",
    "    list_user=[1,2,3,4,5]\n",
    "    main(list_user)\n",
    "\n",
    "import sys\n",
    "sys.executable"
   ]
  }
 ],
 "metadata": {
  "kernelspec": {
   "display_name": "Python 3",
   "language": "python",
   "name": "python3"
  },
  "language_info": {
   "codemirror_mode": {
    "name": "ipython",
    "version": 3
   },
   "file_extension": ".py",
   "mimetype": "text/x-python",
   "name": "python",
   "nbconvert_exporter": "python",
   "pygments_lexer": "ipython3",
   "version": "3.12.5"
  }
 },
 "nbformat": 4,
 "nbformat_minor": 2
}
