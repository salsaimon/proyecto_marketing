{
 "cells": [
  {
   "cell_type": "code",
   "execution_count": 1,
   "metadata": {},
   "outputs": [],
   "source": [
    "import numpy as np\n",
    "import pandas as pd\n",
    "import sqlite3 as sql\n",
    "import FuncionesPY as fn ## para procesamiento\n",
    "import openpyxl"
   ]
  },
  {
   "cell_type": "code",
   "execution_count": 2,
   "metadata": {},
   "outputs": [],
   "source": [
    "####Paquete para sistema basado en contenido ####\n",
    "from sklearn.preprocessing import MinMaxScaler\n",
    "from sklearn import neighbors"
   ]
  },
  {
   "cell_type": "code",
   "execution_count": 5,
   "metadata": {},
   "outputs": [],
   "source": [
    "def preprocesar():\n",
    "\n",
    "    #### conectar_base_de_Datos#################\n",
    "    conn=sql.connect('db_movies')\n",
    "    cur=conn.cursor()\n",
    "\n",
    "    ######## convertir datos crudos a bases filtradas por usuarios que tengan cierto número de calificaciones\n",
    "    fn.ejecutar_sql('preprocesamiento.sql', cur)\n",
    "\n",
    "    ##### llevar datos que cambian constantemente a python ######\n",
    "    movies=pd.read_sql('select * from moviesready', conn )\n",
    "    ratings=pd.read_sql('select * from ratingsready', conn)\n",
    "    usuarios=pd.read_sql('select distinct (user_id) as user_id from ratings_finalready',conn)\n",
    "\n",
    "    \n",
    "    #### transformación de datos crudos - Preprocesamiento ################\n",
    "    movies['año_estreno']=movies.año_estreno.astype('int')\n",
    "\n",
    "    ##### escalar para que año esté en el mismo rango ###\n",
    "    sc=MinMaxScaler()\n",
    "    movies[[\"año_estrenosc\"]]=sc.fit_transform(movies[['año_estreno']])\n",
    "\n",
    "    ## eliminar filas que no se van a utilizar ###\n",
    "    movies_dum1=movies.drop(columns=['movieId','title','conteo','año_estreno'])\n",
    "\n",
    "    return movies_dum1,movies, conn, cur\n"
   ]
  },
  {
   "cell_type": "code",
   "execution_count": 6,
   "metadata": {},
   "outputs": [],
   "source": [
    "#########################################################################\n",
    "############## Función para entrenar modelo por cada usuario #############\n",
    "############## Basado en contenido todo lo visto por el usuario Knn ######\n",
    "def recomendar(user_id):\n",
    "    \n",
    "    movies_dum1, movies, conn, cur= preprocesar()\n",
    "    \n",
    "    ratings=pd.read_sql('select *from ratings_finalready where user_id=:user',conn, params={'user':user_id})\n",
    "    l_movies=ratings['movieId'].to_numpy()\n",
    "    movies_dum1[['movieId','title']]=movies[['movieId','title']]\n",
    "    movies_r=movies_dum1[movies_dum1['movieId'].isin(l_movies)]\n",
    "    movies_r=movies_r.drop(columns=['movieId','title'])\n",
    "    movies_r[\"indice\"]=1 ### para usar group by y que quede en formato pandas tabla de centroide\n",
    "    centroide=movies_r.groupby(\"indice\").mean()\n",
    "    \n",
    "    \n",
    "    movies_nr=movies_dum1[~movies_dum1['movieId'].isin(l_movies)]\n",
    "    movies_nr=movies_nr.drop(columns=['movieId','title'])\n",
    "    model=neighbors.NearestNeighbors(n_neighbors=11, metric='cosine')\n",
    "    model.fit(movies_nr)\n",
    "    dist, idlist = model.kneighbors(centroide)\n",
    "    \n",
    "    ids=idlist[0]\n",
    "    recomend_b=movies.loc[ids][['movieId','title']]\n",
    "    \n",
    "    \n",
    "    return recomend_b"
   ]
  },
  {
   "cell_type": "code",
   "execution_count": 7,
   "metadata": {},
   "outputs": [],
   "source": [
    "def recomendar(user_id):\n",
    "    # Simulación de un DataFrame de ejemplo\n",
    "    return pd.DataFrame({'recomendacion': [f'Recomendación {i}' for i in range(3)]})\n",
    "\n"
   ]
  },
  {
   "cell_type": "code",
   "execution_count": 9,
   "metadata": {},
   "outputs": [],
   "source": [
    "##### Generar recomendaciones para usuario lista de usuarios ####\n",
    "##### No se hace para todos porque es muy pesado #############\n",
    "def main(list_user):\n",
    "    \n",
    "    recomendaciones_todos = pd.DataFrame()\n",
    "    for user_id in list_user:\n",
    "            \n",
    "        recomendaciones = recomendar(user_id)\n",
    "        recomendaciones[\"user_id\"] = user_id\n",
    "        recomendaciones.reset_index(inplace=True, drop=True)\n",
    "        \n",
    "        recomendaciones_todos = pd.concat([recomendaciones_todos, recomendaciones])\n",
    "\n",
    "    recomendaciones_todos.to_excel('salidas\\\\recomendaciones.xlsx')\n",
    "    recomendaciones_todos.to_csv('salidas\\\\recomendaciones.csv')\n",
    "\n",
    "if __name__ == \"__main__\":\n",
    "    list_user = [1, 2, 3, 4, 5]\n",
    "    main(list_user)\n",
    "    import os\n",
    "\n",
    "\n"
   ]
  },
  {
   "cell_type": "code",
   "execution_count": 10,
   "metadata": {},
   "outputs": [],
   "source": [
    "\n",
    "\n",
    "# Simulación de la función recomendar\n",
    "def recomendar(user_id):\n",
    "    # Devuelve un DataFrame con datos de ejemplo\n",
    "    return pd.DataFrame({'recomendacion': [f'Recomendación {user_id} - {i}' for i in range(3)]})\n",
    "\n",
    "# Verificar si la carpeta existe, si no, crearla\n",
    "if not os.path.exists('salidas'):\n",
    "    os.makedirs('salidas')\n",
    "\n",
    "# Función principal\n",
    "def main(list_user):\n",
    "    recomendaciones_todos = pd.DataFrame()\n",
    "    for user_id in list_user:\n",
    "        recomendaciones = recomendar(user_id)  # Simular recomendaciones\n",
    "        recomendaciones[\"user_id\"] = user_id\n",
    "        recomendaciones.reset_index(inplace=True, drop=True)\n",
    "\n",
    "        recomendaciones_todos = pd.concat([recomendaciones_todos, recomendaciones])\n",
    "\n",
    "    # Guardar resultados en Excel y CSV\n",
    "    recomendaciones_todos.to_excel('salidas/recomendaciones.xlsx')\n",
    "    recomendaciones_todos.to_csv('salidas/recomendaciones.csv')\n",
    "\n",
    "if __name__ == \"__main__\":\n",
    "    list_user = [1, 2, 3, 4, 5]  # Lista de usuarios de ejemplo\n",
    "    main(list_user)\n"
   ]
  }
 ],
 "metadata": {
  "kernelspec": {
   "display_name": "base",
   "language": "python",
   "name": "python3"
  },
  "language_info": {
   "codemirror_mode": {
    "name": "ipython",
    "version": 3
   },
   "file_extension": ".py",
   "mimetype": "text/x-python",
   "name": "python",
   "nbconvert_exporter": "python",
   "pygments_lexer": "ipython3",
   "version": "3.12.3"
  }
 },
 "nbformat": 4,
 "nbformat_minor": 2
}
